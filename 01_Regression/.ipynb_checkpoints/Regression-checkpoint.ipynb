{
 "cells": [
  {
   "cell_type": "markdown",
   "metadata": {},
   "source": [
    "## Aplicacion Regresion"
   ]
  },
  {
   "cell_type": "markdown",
   "metadata": {},
   "source": [
    "Para ello vamos a usar el dataset web_traffic.tsv (tab separate values).\n",
    "La data nos muestra la cantidad de hits a una web por cada hora"
   ]
  },
  {
   "cell_type": "code",
   "execution_count": 4,
   "metadata": {
    "collapsed": false
   },
   "outputs": [
    {
     "name": "stdout",
     "output_type": "stream",
     "text": [
      "[[  1.00000000e+00   2.27200000e+03]\n",
      " [  2.00000000e+00              nan]\n",
      " [  3.00000000e+00   1.38600000e+03]\n",
      " [  4.00000000e+00   1.36500000e+03]\n",
      " [  5.00000000e+00   1.48800000e+03]\n",
      " [  6.00000000e+00   1.33700000e+03]\n",
      " [  7.00000000e+00   1.88300000e+03]\n",
      " [  8.00000000e+00   2.28300000e+03]\n",
      " [  9.00000000e+00   1.33500000e+03]\n",
      " [  1.00000000e+01   1.02500000e+03]]\n",
      "(743, 2)\n"
     ]
    }
   ],
   "source": [
    "import scipy as sp\n",
    "# Especificaremos a los tabs como delimitadores para\n",
    "# separar cada columna\n",
    "data = sp.genfromtxt(\"web_traffic.tsv\", delimiter=\"\\t\")\n",
    "print(data[:10])\n",
    "print(data.shape)\n",
    "# Tenemos 743 puntos de data con 2 dimensiones"
   ]
  },
  {
   "cell_type": "markdown",
   "metadata": {},
   "source": [
    "#### Preprocesamiento y Limpieza de data"
   ]
  },
  {
   "cell_type": "code",
   "execution_count": 6,
   "metadata": {
    "collapsed": true
   },
   "outputs": [],
   "source": [
    "# El vector X va a contener las horas.\n",
    "# El vector y va a contener la cantidad de hits en una\n",
    "# hora en particular.\n",
    "\n",
    "X = data[:, 0] \n",
    "y = data[:, 1]\n"
   ]
  },
  {
   "cell_type": "code",
   "execution_count": 10,
   "metadata": {
    "collapsed": false
   },
   "outputs": [
    {
     "data": {
      "text/plain": [
       "8"
      ]
     },
     "execution_count": 10,
     "metadata": {},
     "output_type": "execute_result"
    }
   ],
   "source": [
    "# Tenemos 8 np.nan\n",
    "\n",
    "sp.sum(sp.isnan(y))"
   ]
  },
  {
   "cell_type": "code",
   "execution_count": 12,
   "metadata": {
    "collapsed": false
   },
   "outputs": [],
   "source": [
    "# Vamos a remover los puntos donde y es np.nan\n",
    "\n",
    "X = X[~sp.isnan(y)]\n",
    "y = y[~sp.isnan(y)]"
   ]
  },
  {
   "cell_type": "markdown",
   "metadata": {},
   "source": [
    "Para tener una primera impresion de nuestro datos, vamos a plotearlo.\n",
    "\n",
    "Para ellos vamos a usar Matplotlib.Matplotlib que contiene el paquete pyplot, el cual intenta imitar la interfaz de MATLAB.\n",
    "\n",
    "Es conveniente y facil de usar."
   ]
  },
  {
   "cell_type": "code",
   "execution_count": 23,
   "metadata": {
    "collapsed": false
   },
   "outputs": [
    {
     "ename": "SyntaxError",
     "evalue": "invalid syntax (rrule.py, line 55)",
     "output_type": "error",
     "traceback": [
      "\u001b[1;36m  File \u001b[1;32m\"/home/proyectobot/anaconda3/lib/python3.5/site-packages/dateutil/rrule.py\"\u001b[1;36m, line \u001b[1;32m55\u001b[0m\n\u001b[1;33m    raise ValueError, \"Can't create weekday with n == 0\"\u001b[0m\n\u001b[1;37m                    ^\u001b[0m\n\u001b[1;31mSyntaxError\u001b[0m\u001b[1;31m:\u001b[0m invalid syntax\n"
     ]
    }
   ],
   "source": [
    "import matplotlib.pyplot as plt\n",
    "# %matplotlib inline  \n",
    "# plt.scatter(X, y)\n",
    "# plt.title(\"Trafico de web el ultimo mes\")\n",
    "# plt.xlabel(\"Tiempo\")\n",
    "# plt.ylabel(\"Hits/hora\")\n",
    "# plt.xticks([w*7*24 for w in range(10)],\n",
    "#            ['week %i' %w for w in range(10)])\n",
    "# plt.autoscale(tight = True)\n",
    "# plt.grid()\n",
    "# plt.show()"
   ]
  },
  {
   "cell_type": "markdown",
   "metadata": {},
   "source": [
    "### Referencias:\n",
    "- http://www.scipy.org/Tentative_NumPy_Tutorial\n",
    "- http://matplotlib.org/users/pyplot_tutorial.html"
   ]
  }
 ],
 "metadata": {
  "anaconda-cloud": {},
  "kernelspec": {
   "display_name": "Python [Root]",
   "language": "python",
   "name": "Python [Root]"
  },
  "language_info": {
   "codemirror_mode": {
    "name": "ipython",
    "version": 3
   },
   "file_extension": ".py",
   "mimetype": "text/x-python",
   "name": "python",
   "nbconvert_exporter": "python",
   "pygments_lexer": "ipython3",
   "version": "3.5.2"
  }
 },
 "nbformat": 4,
 "nbformat_minor": 0
}
