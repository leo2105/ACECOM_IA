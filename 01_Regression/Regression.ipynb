{
 "cells": [
  {
   "cell_type": "markdown",
   "metadata": {},
   "source": [
    "## Aplicacion Regresion"
   ]
  },
  {
   "cell_type": "markdown",
   "metadata": {},
   "source": [
    "Para ello vamos a usar el dataset web_traffic.tsv (tab separate values).\n",
    "La data nos muestra la cantidad de hits a una web por cada hora"
   ]
  },
  {
   "cell_type": "code",
   "execution_count": 17,
   "metadata": {
    "collapsed": false
   },
   "outputs": [
    {
     "name": "stdout",
     "output_type": "stream",
     "text": [
      "[[  1.00000000e+00   2.27200000e+03]\n",
      " [  2.00000000e+00              nan]\n",
      " [  3.00000000e+00   1.38600000e+03]\n",
      " [  4.00000000e+00   1.36500000e+03]\n",
      " [  5.00000000e+00   1.48800000e+03]\n",
      " [  6.00000000e+00   1.33700000e+03]\n",
      " [  7.00000000e+00   1.88300000e+03]\n",
      " [  8.00000000e+00   2.28300000e+03]\n",
      " [  9.00000000e+00   1.33500000e+03]\n",
      " [  1.00000000e+01   1.02500000e+03]]\n",
      "(743, 2)\n"
     ]
    }
   ],
   "source": [
    "import scipy as sp\n",
    "# Especificaremos a los tabs como delimitadores para\n",
    "# separar cada columna\n",
    "data = sp.genfromtxt(\"web_traffic.tsv\", delimiter=\"\\t\")\n",
    "print(data[:10])\n",
    "print(data.shape)\n",
    "# Tenemos 743 puntos de data con 2 dimensiones"
   ]
  },
  {
   "cell_type": "markdown",
   "metadata": {},
   "source": [
    "#### Preprocesamiento y Limpieza de data"
   ]
  },
  {
   "cell_type": "code",
   "execution_count": 18,
   "metadata": {
    "collapsed": true
   },
   "outputs": [],
   "source": [
    "# El vector X va a contener las horas.\n",
    "# El vector y va a contener la cantidad de hits en una\n",
    "# hora en particular.\n",
    "\n",
    "X = data[:, 0] \n",
    "y = data[:, 1]\n"
   ]
  },
  {
   "cell_type": "code",
   "execution_count": 19,
   "metadata": {
    "collapsed": false
   },
   "outputs": [
    {
     "data": {
      "text/plain": [
       "8"
      ]
     },
     "execution_count": 19,
     "metadata": {},
     "output_type": "execute_result"
    }
   ],
   "source": [
    "# Tenemos 8 np.nan\n",
    "\n",
    "sp.sum(sp.isnan(y))"
   ]
  },
  {
   "cell_type": "code",
   "execution_count": 20,
   "metadata": {
    "collapsed": false
   },
   "outputs": [],
   "source": [
    "# Vamos a remover los puntos donde y es np.nan\n",
    "\n",
    "X = X[~sp.isnan(y)]\n",
    "y = y[~sp.isnan(y)]"
   ]
  },
  {
   "cell_type": "markdown",
   "metadata": {},
   "source": [
    "Para tener una primera impresion de nuestro datos, vamos a plotearlo.\n",
    "\n",
    "Para ellos vamos a usar Matplotlib.Matplotlib que contiene el paquete pyplot, el cual intenta imitar la interfaz de MATLAB.\n",
    "\n",
    "Es conveniente y facil de usar."
   ]
  },
  {
   "cell_type": "code",
   "execution_count": 21,
   "metadata": {
    "collapsed": false
   },
   "outputs": [
    {
     "data": {
      "image/png": "[encoded data removed]",
      "text/plain": [
       "<matplotlib.figure.Figure at 0x7f8c1d451eb8>"
      ]
     },
     "metadata": {},
     "output_type": "display_data"
    }
   ],
   "source": [
    "import matplotlib.pyplot as plt\n",
    "%matplotlib inline\n",
    "\n",
    "plt.scatter(X, y)\n",
    "plt.title(\"Trafico de web el ultimo mes\")\n",
    "plt.xlabel(\"Tiempo\")\n",
    "plt.ylabel(\"Hits/hora\")\n",
    "#plt.xticks([w*7*24 for w in range(10)],\n",
    "#           ['week %i' %w for w in range(10)])\n",
    "plt.autoscale(tight = True)\n",
    "plt.grid()\n",
    "plt.show()"
   ]
  },
  {
   "cell_type": "markdown",
   "metadata": {},
   "source": [
    "¿Cuánto tiempo manejará nuestro servidor el tráfico web entrante?\n",
    "- Encontrar el modelo real detras de los puntos de la data\n",
    "- Usar el modelo para extrapolar "
   ]
  },
  {
   "cell_type": "markdown",
   "metadata": {},
   "source": [
    "Antes de contruir el modelo, primero debemos fijarnos en el error."
   ]
  },
  {
   "cell_type": "code",
   "execution_count": 22,
   "metadata": {
    "collapsed": true
   },
   "outputs": [],
   "source": [
    "def error(f, x, y):\n",
    "    return sp.sum((f(x) - y)**2) \n",
    "\n",
    "# Se nota la belleza del vectorizado\n",
    "# f(x) debe retornar un vector y, debe ser del mismo size\n",
    "# y tipo que 'y'"
   ]
  },
  {
   "cell_type": "code",
   "execution_count": 28,
   "metadata": {
    "collapsed": false
   },
   "outputs": [
    {
     "name": "stdout",
     "output_type": "stream",
     "text": [
      "Model parameters: [   2.59619213  989.02487106]\n",
      "[  3.17389767e+08]\n"
     ]
    }
   ],
   "source": [
    "# La funcion sp.polyfit() nos crea la funcion del modelo \n",
    "# desde los parametros del modelo (X, y).\n",
    "\n",
    "# residuals = error\n",
    "\n",
    "fp1, residuals, rank, sv, rcond = sp.polyfit(X, y, 1, full = True)\n",
    "print(\"Model parameters: %s\" %fp1)\n",
    "print(residuals)"
   ]
  },
  {
   "cell_type": "markdown",
   "metadata": {},
   "source": [
    "Esto nos indica que el mejor ajuste de recta es:\n",
    "    \n",
    "    f(x) = 2.59619213 * x + 989.02487106"
   ]
  },
  {
   "cell_type": "code",
   "execution_count": null,
   "metadata": {
    "collapsed": true
   },
   "outputs": [],
   "source": []
  },
  {
   "cell_type": "markdown",
   "metadata": {},
   "source": [
    "### Referencias:\n",
    "- http://www.scipy.org/Tentative_NumPy_Tutorial\n",
    "- http://matplotlib.org/users/pyplot_tutorial.html"
   ]
  }
 ],
 "metadata": {
  "anaconda-cloud": {},
  "kernelspec": {
   "display_name": "Python [Root]",
   "language": "python",
   "name": "Python [Root]"
  },
  "language_info": {
   "codemirror_mode": {
    "name": "ipython",
    "version": 3
   },
   "file_extension": ".py",
   "mimetype": "text/x-python",
   "name": "python",
   "nbconvert_exporter": "python",
   "pygments_lexer": "ipython3",
   "version": "3.5.2"
  }
 },
 "nbformat": 4,
 "nbformat_minor": 0
}
