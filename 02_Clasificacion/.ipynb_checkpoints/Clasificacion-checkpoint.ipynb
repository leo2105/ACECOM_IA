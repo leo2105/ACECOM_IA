{
 "cells": [
  {
   "cell_type": "markdown",
   "metadata": {},
   "source": [
    "### Aprendiendo como clasidicar con Ejemplos Real-world"
   ]
  },
  {
   "cell_type": "markdown",
   "metadata": {},
   "source": [
    "Puede una maquina distinguir entre especies de flores basado en imagenes? Desde la perspectiva del machine learning, abordamos este problema haciendo que la maquina aprenda a realizar esta tarea basandose en ejemplos de cada especie para poder clasificar las imagenes donde las especies no estan marcadas.\n",
    "\n",
    "Este proceso es llamado **clasificacion** (o aprendizaje no supervisado), y este problema se remonta a muchas decadas atras."
   ]
  },
  {
   "cell_type": "markdown",
   "metadata": {},
   "source": [
    "#### Iris Dataset\n",
    "\n",
    "El dataset iris es un dataset clasico desde los anos 1930's; este es uno de los primeros ejemplos de clasificacion estadistica.\n",
    "\n",
    "Antes que se identificara que el ADN lleva informacion genetica, las  multiples especies de las flores Iris eran identificadas por su morfologia.\n",
    "\n",
    "Los siguientes 4 atributos de cada planta fueron medidos:\n",
    "- Logitud Sepalo\n",
    "- Ancho Sepalo\n",
    "- Longitud Petalo\n",
    "- Ancho Petalo"
   ]
  },
  {
   "cell_type": "markdown",
   "metadata": {},
   "source": [
    "En general, podemos llamar a cualquier medicion desde nuestra como **feature** (caracteristica).\n",
    "\n",
    "La pregunta seria, si agregamos una nuevo flor, podríamos hacer una buena predicción sobre su especie a partir de sus mediciones\n",
    "\n",
    "Este es un problema de **Clasificacion**"
   ]
  },
  {
   "cell_type": "markdown",
   "metadata": {},
   "source": [
    "#### Referencias\n",
    "\n",
    "\n"
   ]
  }
 ],
 "metadata": {
  "anaconda-cloud": {},
  "kernelspec": {
   "display_name": "Python [conda root]",
   "language": "python",
   "name": "conda-root-py"
  },
  "language_info": {
   "codemirror_mode": {
    "name": "ipython",
    "version": 3
   },
   "file_extension": ".py",
   "mimetype": "text/x-python",
   "name": "python",
   "nbconvert_exporter": "python",
   "pygments_lexer": "ipython3",
   "version": "3.5.2"
  }
 },
 "nbformat": 4,
 "nbformat_minor": 1
}
